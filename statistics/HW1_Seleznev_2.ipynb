{
 "cells": [
  {
   "cell_type": "markdown",
   "metadata": {
    "id": "ix5mg3lvmi-0"
   },
   "source": [
    "# Прикладная статистика. ДЗ 1.\n",
    "# Академия Аналитиков Авито"
   ]
  },
  {
   "cell_type": "markdown",
   "metadata": {
    "id": "Ia8PT-uBmoxo"
   },
   "source": [
    "__Правила:__\n",
    "- Финальный дедлайн: **2022-11-30 23:59**. \n",
    "- После того как ваше решение проверят и ответят, вам дается неделя на исправление тех задач, о которых скажет проверяющий. Ответ и обсуждение решения — в телеграме.\n",
    "\n",
    "- Выполненную работу нужно отправить\n",
    "    - в чатик HW1-<ваше имя> через бота @AAA_stats23_bot\n",
    "    - или в личные сообщения боту.\n",
    "- В качестве решения нужно отправить файл ipynb. Ссылка на интернет-ресурсы не принимается. Не публикуйте решения в открытом доступе!\n",
    "- Для выполнения задания используйте этот ноутбук в качествие основы, ничего не удаляя из него. **При этом можно добавлять новые ячейки!**\n",
    "- в ячейках с комменарием `#Автопроверка` нужно заполнить содержимое функций и классов (если есть), которые будут уже объявлены в этой ячейке. При этом:\n",
    "    - Нельзя убрирать или переставять `#Автопроверка` в ячейке. \n",
    "    - Нельзя менять сигнатуру и возвращаемое значение функций. То есть добавлять любой код можно, но удалять, что уже написано - нельзя.\n",
    "    - Нельзя ничего импортировать в таких ячейках. Все доступные для использования библиотеки будут указаны заранее. Такие слова, как `import`, `globals`, `locals`, `eval`, `exec` также нельзя использовать внутри ячеек.\n",
    "    - Нельзя использовать библиотеки, кроме тех, что указаны в задании. Ваш код должен работать именно с эти набором библиотек без любого дополнительного импорта!\n",
    "    - Нельзя использовать код из других ячеек ноутбука (кроме ячейки с импортом, в которой указаны все доступные библиотеки). Единственное исключение - если вы проставите в начало такой ячейки слово `#Автопроверка`. Тогда вы можете использовать код из этой ячейки.\n",
    "    - В случае нарушения этого правила автопроверка будет провалена и вы не получите часть баллов за задачу. \n",
    "    - В случае, если есть несколько ячеек автопроверки, то в каждой такой ячейке можно использовать созданные вами функции (или классы) из других ячеек автопроверки."
   ]
  },
  {
   "cell_type": "code",
   "execution_count": 2,
   "metadata": {
    "id": "dKDxSJ9WS_tk"
   },
   "outputs": [],
   "source": [
    "from collections import namedtuple\n",
    "from scipy.stats import binom\n",
    "import math\n",
    "import numpy as np"
   ]
  },
  {
   "cell_type": "markdown",
   "metadata": {
    "id": "PJ-OUCn7atBd"
   },
   "source": [
    "# Общие замечания по задачам с автопроверкой\n",
    "\n",
    "Во всех задачах далее, где потребуется автопроверка, можно использовать только следующие библиотеки:\n",
    "\n",
    "```\n",
    "from collections import namedtuple\n",
    "from scipy.stats import binom\n",
    "import math\n",
    "import numpy as np\n",
    "```\n",
    "\n",
    "Еще раз обращаем внимание, что в ячейках автопроверки __не__ должны быть импортированы какие-либо библиотеки. В других ячейках импортировать библиотеки можно, но при проверке использованы будут только указанные."
   ]
  },
  {
   "cell_type": "markdown",
   "metadata": {
    "id": "ZCxtcEm9TK0j"
   },
   "source": [
    "## Задача 1. 3 балла\n",
    "\n",
    "[Осьминог Пауль](https://www.championat.com/football/article-3238881-samye-izvestnye-zhivotnye-predskazateli.html) 14 раз пробовал угадать победителя футбольного матча.\n",
    "12 раз он угадал правильно, 2 раза — ошибся. Мы хотим проверить гипотезу:\n",
    "\n",
    " - $H_0$: осьминог угадывает победителя матча с вероятностью 0.5\n",
    " - $H_1$: осьминог выбирает победителя  матча с вероятностью $\\neq$ 0.5\n",
    "\n",
    "#### Пункт А. 1 балл: \n",
    "\n",
    "### На зачет\n",
    "\n",
    "Вам нужно разработать статистический критерий для проверки этой гипотезы, а также посчитать p-value."
   ]
  },
  {
   "cell_type": "markdown",
   "metadata": {
    "executionInfo": {
     "elapsed": 4,
     "status": "ok",
     "timestamp": 1665948902721,
     "user": {
      "displayName": "Dmitriy Lunin",
      "userId": "12580797963137539995"
     },
     "user_tz": -180
    },
    "id": "XiS5n6kXSobS"
   },
   "source": [
    "- Рассмотрим статистику  $T(X^n) = \\underset{i=1}{\\overset{n}{\\sum}} X_i,\\ T \\overset{H_0}{\\sim} \\text{Binom} (n, p_0)$, где $X_i = \\begin{cases}\n",
    "                   1,  & \\mbox{если осьминог угадал}\\\\\n",
    "                   0, & \\mbox{если осьминог не угадал}\n",
    "               \\end{cases}.$\n",
    "               \n",
    "- Когда мы отвергнем поставленную гипотезу?\n",
    "    - Пусть реализация $T(X^n) = t$. Тогда если $P_{H_0}(T(X^n) \\leq t) \\leq \\alpha / 2$ и $P_{H_0}(T(X^n) \\geq t) \\leq \\alpha/2$ то мы отвергнем гипотезу.  \n",
    "       $\n",
    "        \\begin{align}\n",
    "            &t \\geq F^{-1}(1 - \\alpha/2) + 1 \\\\\n",
    "            &t \\leq F^{-1}(\\alpha/2)\n",
    "        \\end{align}\n",
    "        $"
   ]
  },
  {
   "cell_type": "markdown",
   "metadata": {
    "id": "TA2pOET1UA19"
   },
   "source": [
    "Реализуйте критерий `check_paul_criterion(n, k, alpha)`, где \n",
    "- `n` &mdash; количество матчей;\n",
    "- `k` &mdash; количество верных предсказаний от осьминога;\n",
    "- `alpha` &mdash; уровень значимости критерия.\n",
    "\n",
    "Функция должна вернуть `PaulCheckResults` с полями\n",
    "- is_rejected: отверглась или нет гипотеза H_0 на уровне значимости alpha\n",
    "- pvalue\n"
   ]
  },
  {
   "cell_type": "code",
   "execution_count": 3,
   "metadata": {
    "id": "LwmVcAYhUAI1"
   },
   "outputs": [],
   "source": [
    "# Автопроверка\n",
    "\n",
    "PaulCheckResults = namedtuple('PaulCheckResults', ['is_rejected', 'pvalue'])\n",
    "\n",
    "def check_paul_criterion(n: int, k: int, alpha: float=0.05, two_side: bool=True):\n",
    "    \"\"\"\n",
    "    Параметры:\n",
    "    - n: количество матчей\n",
    "    - k: количество верных предсказаний от осьминога\n",
    "    - alpha: уровень значимости критерия.\n",
    "    - two_side: использовать или нет двустороннюю гипотезу\n",
    "        \n",
    "    Возвращает:\n",
    "    - PaulCheckResults с полями:\n",
    "        - is_rejected: bool\n",
    "            - отверглась или нет гипотеза H_0 \n",
    "                       на уровне значимости alpha\n",
    "        - pvalue: float\n",
    "    \"\"\"\n",
    "    \n",
    "    critical_value_right = binom.ppf(1 - alpha / 2, n=n, p=0.5) + 1\n",
    "    critical_value_left = binom.ppf(alpha / 2, n=n, p=0.5) - 1\n",
    "\n",
    "    is_rejected = (k <= critical_value_left) or (critical_value_right <= k)\n",
    "\n",
    "    pvalue_onesided = 1 - binom.cdf(k - 1, n=n, p=0.5)\n",
    "\n",
    "    if pvalue_onesided > 0.5:\n",
    "        pvalue_onesided = binom.cdf(k, n=n, p=0.5)\n",
    "\n",
    "    pvalue_twosided = 2 * pvalue_onesided\n",
    "\n",
    "    if pvalue_twosided > 1:\n",
    "        pvalue_twosided = 1\n",
    "    pvalue = pvalue_twosided\n",
    "\n",
    "    return PaulCheckResults(is_rejected, pvalue)"
   ]
  },
  {
   "cell_type": "code",
   "execution_count": 4,
   "metadata": {},
   "outputs": [
    {
     "data": {
      "text/plain": [
       "(True, 0.012939453125)"
      ]
     },
     "execution_count": 4,
     "metadata": {},
     "output_type": "execute_result"
    }
   ],
   "source": [
    "res = check_paul_criterion(14, 12)\n",
    "res.is_rejected, res.pvalue"
   ]
  },
  {
   "cell_type": "markdown",
   "metadata": {
    "id": "M86GBVKbSYR6"
   },
   "source": [
    "#### Пункт B. 2 балла: \n",
    "\n",
    "Какие выводы можно сделать из полученного результата?"
   ]
  },
  {
   "cell_type": "markdown",
   "metadata": {
    "id": "bmvrxyMlT_mq"
   },
   "source": [
    "Так как осьминоги не учавствуют в программе экстрасенсы, то очень вероятно, что таких способностей они не имеют, скорее всего выборка из 14 испытаний слишком маленькая. Плюс так как 12 из 14 испытаний он угадал, можно попробовать рассматривать односторонний критерий\n"
   ]
  },
  {
   "cell_type": "code",
   "execution_count": 43,
   "metadata": {},
   "outputs": [],
   "source": [
    "import scipy.stats as sps \n",
    "\n",
    "\n",
    "def get_critical_values(p0, n, alpha=0.05):\n",
    "    if alpha >= 0.5:\n",
    "        raise ValueError('Alpha has to be less then 0.5')\n",
    "        \n",
    "    critical_value_right = binom.ppf(1 - alpha / 2, n=n, p=0.5) + 1\n",
    "    critical_value_left = binom.ppf(alpha / 2, n=n, p=0.5) - 1\n",
    "    return critical_value_left, critical_value_right\n",
    "\n",
    "def get_mde(p0, n, power, \n",
    "            critical_value_left = None, \n",
    "            critical_value_right = None, \n",
    "            is_reverse_order = False):\n",
    "    mde = 100\n",
    "    \n",
    "    if not is_reverse_order:\n",
    "        possible_p = np.arange(p0, 1.001, 0.001)\n",
    "    else:\n",
    "        possible_p = np.arange(p0 + 0.001, -0.001, -0.001)\n",
    "    \n",
    "    right_area, left_area = 0, 0\n",
    "    for p in possible_p:   \n",
    "        \n",
    "        if critical_value_right is not None:\n",
    "            right_area = 1 - sps.binom(p=p, n=n).cdf(critical_value_right - 1) \n",
    "            \n",
    "        if critical_value_left:\n",
    "            left_area = sps.binom(p=p, n=n).cdf(critical_value_left)\n",
    "            \n",
    "        if right_area + left_area >= power:\n",
    "            mde = round((p - p0) * 100, 2) if not is_reverse_order else round((p0 - p) * 100, 2)\n",
    "            break\n",
    "            \n",
    "    return mde\n",
    "\n",
    "def get_interval_and_MDE(p0, n, power, \n",
    "                         critical_value_left = None, \n",
    "                         critical_value_right = None):\n",
    "    \n",
    "    mde = None\n",
    "    left_mde, right_mde = 0, 0\n",
    "    \n",
    "    if critical_value_right is not None:\n",
    "        right_mde = get_mde(p0, n, power, \n",
    "                            critical_value_left, critical_value_right, \n",
    "                            is_reverse_order=False)\n",
    "        mde = right_mde\n",
    "        interval = round(p0 + right_mde / 100, 2)\n",
    "        \n",
    "    if critical_value_right is not None:\n",
    "        left_mde = get_mde(p0, n, power, \n",
    "                           critical_value_left, critical_value_right, \n",
    "                           is_reverse_order=True)\n",
    "        if mde is not None:\n",
    "            mde += mde\n",
    "            interval = (round(p0 - left_mde / 100, 2), interval)\n",
    "        else:\n",
    "            mde = right_mde\n",
    "            interval = round(p0 - left_mde / 100, 2)\n",
    "            \n",
    "    return {'interval': interval, 'MDE': mde}"
   ]
  },
  {
   "cell_type": "code",
   "execution_count": 54,
   "metadata": {},
   "outputs": [
    {
     "data": {
      "text/plain": [
       "{'interval': (0.11, 0.89), 'MDE': 77.8}"
      ]
     },
     "execution_count": 54,
     "metadata": {},
     "output_type": "execute_result"
    }
   ],
   "source": [
    "p0 = 0.5\n",
    "alpha=0.05\n",
    "n = 14\n",
    "k = 12\n",
    "power = 0.8\n",
    "\n",
    "critical_value_left, critical_value_right = get_critical_values(p0, n, alpha)\n",
    "\n",
    "get_interval_and_MDE(p0, n, power, critical_value_left, critical_value_right)"
   ]
  },
  {
   "cell_type": "markdown",
   "metadata": {},
   "source": [
    "При мощности 80%(нас она устраивает) доверительный интервал слишком большой(такой нас не утсраивает), так как мы можем задетектировать только, если истинная вероятность будет сильно отличаться. Поэтому, как вариант нужно увеличить количество наблюдений, наример пусть n=3500 MDE будет меньше 5%:"
   ]
  },
  {
   "cell_type": "code",
   "execution_count": 63,
   "metadata": {},
   "outputs": [
    {
     "data": {
      "text/plain": [
       "{'interval': (0.48, 0.52), 'MDE': 4.8}"
      ]
     },
     "execution_count": 63,
     "metadata": {},
     "output_type": "execute_result"
    }
   ],
   "source": [
    "p0 = 0.5\n",
    "alpha=0.05\n",
    "n = 3500\n",
    "k = 12\n",
    "power=0.8\n",
    "\n",
    "critical_value_left, critical_value_right = get_critical_values(p0, n, alpha)\n",
    "\n",
    "get_interval_and_MDE(p0, n, power, critical_value_left, critical_value_right)"
   ]
  },
  {
   "cell_type": "markdown",
   "metadata": {
    "id": "ukkQeXMzadSw"
   },
   "source": [
    "## Задача 2. 3 балла\n",
    "\n",
    "### На зачет\n",
    "\n",
    "Мы разработали новый дизайн нашего продукта. Вероятность, что он понравится случайному человеку — $p$, и она нам неизвестна. Мы хотим\n",
    "проверить $H_0: p = 1$ с помощью статистического критерия c уровнем значимости $\\alpha$. Предложить критерий для решения этой задачи."
   ]
  },
  {
   "cell_type": "markdown",
   "metadata": {
    "id": "oZx--5Giam5G"
   },
   "source": [
    "- Пусть $p$ &mdash; истинная вероятность того, что пользователю понравится дизайн. Тогда наша гипотеза звучит так: \n",
    "    - $H_0: p = 1.0 \\ vs.\\ H_1: p < 1.0$ \n",
    "    - Пусть ошибка первого рода 5%. Но есть нюанс, из за распределения для гипотезы H0 изменение $\\alpha$ не будет влиять на результат\n",
    "- Какой критерий использовать?\n",
    "    - Рассмотрим статистику  $T(X^n) = \\underset{i=1}{\\overset{n}{\\sum}} X_i,\\ T \\overset{H_0}{\\sim} \\text{Binom} (n, p_0)$, где $X_i = \\begin{cases}\n",
    "                   1,  & \\mbox{если человеку понравилось}\\\\\n",
    "                   0, & \\mbox{если человеку не понравилось}\n",
    "               \\end{cases},$ $n$ $\\in$ [0, 1000].\n",
    "    - Когда мы отвергнем поставленную гипотезу?\n",
    "        - Пусть реализация $T(X^n) = t$. Тогда если $P_{H_0}(T(X^n) \\leq t) \\leq \\alpha$, то мы отвергнем гипотезу.\n",
    "        $$\n",
    "        \\begin{align}\n",
    "            &P_{H_0}(T(X^n) \\leq t) \\leq \\alpha \\Leftrightarrow\\\\\n",
    "            &F_{\\text{Binom}(n, p_0)}(t) \\leq \\alpha \\Leftrightarrow\\\\\n",
    "            &t \\leq F^{-1}(\\alpha)\n",
    "        \\end{align}\n",
    "        $$ => для любой $\\alpha$ для $H_0$ будет $t = n*(n+1)/2 - 1$\n",
    "        \n",
    "    Чтобы найти начало крит. области, найдо найти мин t, чтобы $F(x) \\geq p$. Вспомним определение квантили:  \n",
    "    $u_p = \\{\\min\\ x: F(x) \\geq p \\}$. Тогда это и есть искомое значение: начало критической области.\n",
    "    - `reject_value = binom(p=p0, n=n).ppf(alpha) - 1`. У нас есть правило для отвержения гипотезы  \n",
    "    => reject_value = $n-1$\n",
    "    \n",
    "- Мы знаем, что нулевая гипотеза отвергается, если $T \\leq \\text{reject_value}$\n",
    "- Тогда нам надо найти такое $p$, чтобы $P_{\\text{Binom} (n, p)}(T(X^n) \\leq \\text{reject_value}) = 1-\\beta$:\n",
    "    $$\\begin{align}\n",
    "    &P_{\\text{Binom} (n, p)}(T(X^n) \\leq \\text{reject_value}) \\geq 1-\\beta \\Leftrightarrow\\\\\n",
    "    &1 - P_{\\text{Binom} (n, p)}(T(X^n) \\leq \\text{reject_value}) \\leq \\beta\n",
    "    \\end{align}\n",
    "    $$\n",
    "    То есть мы ищем такое p, что `1 - binom(p=p, n=N).cdf(reject_value) <= beta`"
   ]
  },
  {
   "cell_type": "markdown",
   "metadata": {
    "id": "rcJ8DpM6anBh"
   },
   "source": [
    "Напишите функцию `calculate_number_of_users(alpha, beta, p)` — скольки людям нужно показать этот дизайн, чтобы добиться мощности `1 - beta` при заданном `p` и уровне значимости `alpha`.\n",
    "\n",
    "P.S. Утверждается, что на наших тестах ответ не будет превосходить 1000 человек."
   ]
  },
  {
   "cell_type": "code",
   "execution_count": 4,
   "metadata": {
    "id": "6MNoFCQTbCgy"
   },
   "outputs": [],
   "source": [
    "#Автопроверка\n",
    "\n",
    "def calculate_number_of_users(alpha: float, beta: float, p: float):\n",
    "    \"\"\"\n",
    "    Параметры:\n",
    "    - alpha: уровень значимости\n",
    "    - beta: инвертированная мощность критерия. мощность = 1 - beta.\n",
    "    - p: истинная вероятность того, что пользователю понравится дизайн.\n",
    "    Возвращает:\n",
    "    - number_of_users: int\n",
    "        - количество людей, которым надо показать дизайн.\n",
    "    \"\"\"\n",
    "    p0 = 1\n",
    "    number_of_users = None\n",
    "\n",
    "    for n in range(1, 1001):\n",
    "    \n",
    "        reject_value = binom(p=p0, n=n).ppf(alpha) - 1\n",
    "        \n",
    "        if 1 - binom(p=p, n=n).cdf(reject_value) <= beta:\n",
    "            number_of_users = n\n",
    "            break   \n",
    "\n",
    "    return number_of_users"
   ]
  },
  {
   "cell_type": "code",
   "execution_count": 5,
   "metadata": {},
   "outputs": [
    {
     "data": {
      "text/plain": [
       "6"
      ]
     },
     "execution_count": 5,
     "metadata": {},
     "output_type": "execute_result"
    }
   ],
   "source": [
    "calculate_number_of_users(0.05, 0.3, 0.8)"
   ]
  },
  {
   "cell_type": "markdown",
   "metadata": {
    "id": "Gf5XkemMeYTe"
   },
   "source": [
    "## Задача 3."
   ]
  },
  {
   "cell_type": "markdown",
   "metadata": {
    "id": "T-BANkgVegpD"
   },
   "source": [
    "По недостоверной информации (вероятность, что она верна, считаем за 1%), в новой версии нашего сайта есть сложнодетектируемый баг. Мы могли бы попросить разработку его отыскать и починить, но на это уйдет много ресурсов.\n",
    "\n",
    "К счастью, у нас есть старый AB тест (новая версия сайта vs старая), который мы можем проанализировать и с некоторой вероятностью обнаружить наличие бага просто сравнением выборок. У нас есть три критерия для проверки гипотезы \"$H_0$: баги нет, $H_1$: баг есть\":\n",
    "- критерий `A`: $\\alpha = 0.02, 1-\\beta = 0.50$\n",
    "- критерий `B`: $\\alpha = 0.05, 1-\\beta = 0.60$\n",
    "- критерий `C`: $\\alpha = 0.10, 1-\\beta = 0.70$\n",
    "\n",
    "Если критерий находит баг, мы просим разработчиков потратить силы и починить. На это у них уйдет усилий на 1 М ₽ независимо от того, найдут они баг или нет.\n",
    "Если критерий не найдет баг, затраты разработчиков будут нулевыми, но из-за бага мы потеряем в конечном итоге 50 М ₽.\n",
    "\n",
    "#### Пункт А. 2 балла: \n",
    "\n",
    "Какой критерий стоит выбрать?"
   ]
  },
  {
   "cell_type": "markdown",
   "metadata": {},
   "source": [
    "Матожидание потерь, если критерий нашел баг: Баг есть + Бага нет: $$(1 - \\beta)* 0.01 * 50млн + \\alpha * 0.99 * 50млн$$ \n",
    "Матожидание потерь, если критерий не нашел баг: Баг есть + Бага нет: $$0.01*(1 - (1 - \\beta)) * 1млн + 0.99*(1 - \\alpha) * 0млн$$"
   ]
  },
  {
   "cell_type": "code",
   "execution_count": 6,
   "metadata": {
    "id": "B7msl2CpeXZG"
   },
   "outputs": [],
   "source": [
    "def E(alpha, betta, dev_money=1e6, lost_money=50e6, p_bag=0.01):\n",
    "    M_find_bag = (1 - betta) * p_bag * dev_money + alpha * (1 - p_bag) * dev_money\n",
    "    M_not_find_bag = betta * p_bag * lost_money + (1 - alpha) * (1 - p_bag) * 0\n",
    "    return M_find_bag + M_not_find_bag"
   ]
  },
  {
   "cell_type": "code",
   "execution_count": 7,
   "metadata": {},
   "outputs": [
    {
     "name": "stdout",
     "output_type": "stream",
     "text": [
      "A :  274800\n",
      "B :  255500\n",
      "C :  256000\n"
     ]
    }
   ],
   "source": [
    "criteria = [('A', 0.02, 1 - 0.50), ('B', 0.05, 1 - 0.60), ('C', 0.1, 1 - 0.70)]\n",
    "for c, alpha, beta in criteria:\n",
    "    print(c , ': ', round(E(alpha, beta)))"
   ]
  },
  {
   "cell_type": "markdown",
   "metadata": {},
   "source": [
    "#### Выбираю критерий B"
   ]
  },
  {
   "cell_type": "markdown",
   "metadata": {
    "id": "OA9UO8ZHgPbi"
   },
   "source": [
    "#### Пункт B. 2 балла: \n",
    "Предложите оптимальную стратегию, если потери от ненайденного бага составят вместо 50М:\n",
    "- 20М рублей;\n",
    "- 3М рублей;\n",
    "- 300М рублей."
   ]
  },
  {
   "cell_type": "code",
   "execution_count": 8,
   "metadata": {
    "id": "-ZjyRGlSlid1"
   },
   "outputs": [
    {
     "name": "stdout",
     "output_type": "stream",
     "text": [
      "A :  124800\n",
      "B :  135500\n",
      "C :  166000\n",
      "\n",
      "A :  39800\n",
      "B :  67500\n",
      "C :  115000\n",
      "\n",
      "A :  1524800\n",
      "B :  1255500\n",
      "C :  1006000\n",
      "\n"
     ]
    }
   ],
   "source": [
    "lost_moneys = [20e6, 3e6, 300e6]\n",
    "for lost_money in lost_moneys:\n",
    "    for c, alpha, beta in criteria:\n",
    "        print(c , ': ', round(E(alpha, beta, 1e6, lost_money)))\n",
    "    print()"
   ]
  },
  {
   "cell_type": "markdown",
   "metadata": {},
   "source": [
    "Матожидание потерь, что баг есть для каждого случая:\n",
    "- 20М рублей:  0.01 * 20000000 = 200000 > 124800 \n",
    "- 3М рублей:  0.01 * 3000000 = 30000 < 39800 \n",
    "- 300М рублей:  0.01 * 300000000 = 3000000 > 1006000  \n",
    "\n",
    "Получается, что для случая 3млн нам невыгодно искать баг, так как матожидание потерь случая, когда мы его не ищем, меньше чем матожидание потерь в случае, когда мы пытаемся найти баг.\n",
    "\n",
    "Вывод:\n",
    "Для 20млн ищем баг и выбираем критерий А, для 3млн нам выгоднее не искать баг вовсе, для 300млн критерий С\n"
   ]
  },
  {
   "cell_type": "code",
   "execution_count": null,
   "metadata": {},
   "outputs": [],
   "source": []
  }
 ],
 "metadata": {
  "colab": {
   "collapsed_sections": [],
   "provenance": []
  },
  "kernelspec": {
   "display_name": "Python 3",
   "language": "python",
   "name": "python3"
  },
  "language_info": {
   "codemirror_mode": {
    "name": "ipython",
    "version": 3
   },
   "file_extension": ".py",
   "mimetype": "text/x-python",
   "name": "python",
   "nbconvert_exporter": "python",
   "pygments_lexer": "ipython3",
   "version": "3.8.6"
  }
 },
 "nbformat": 4,
 "nbformat_minor": 1
}
